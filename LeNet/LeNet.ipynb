{
  "cells": [
    {
      "cell_type": "code",
      "execution_count": 7,
      "metadata": {
        "id": "6F1y2ES2Vqrv"
      },
      "outputs": [],
      "source": [
        "import tensorflow as tf\n",
        "import matplotlib.pyplot as plt\n",
        "from tensorflow.keras import layers,models,datasets,losses\n",
        "import tensorflow_datasets as tfds"
      ]
    },
    {
      "cell_type": "code",
      "execution_count": 8,
      "metadata": {
        "colab": {
          "base_uri": "https://localhost:8080/",
          "height": 105,
          "referenced_widgets": [
            "c581b0df64174658a2d15729d24dbc02",
            "572c9fc8d1404a0bab217c38ef26f033",
            "7338936a5e4d46469330dfe867191bac",
            "edbe3d6f1256449cb7024cbb01adccb4",
            "89b6716714d84fb4b102c4f244a99cd4",
            "5dbc3869470a48c8b6ac1e7aca07470e",
            "21d4b2aedc9c461a97eca11b76987544",
            "4952e7630b564d17b70b9993ef09dadb",
            "95703a6114dd4adab38872bfef93daf8",
            "1027e8228b874ff2a1088e74879943e3",
            "3f5c8fcd62794cd3bd9ebed49806a7ce"
          ]
        },
        "id": "hd6vWxK3WLa8",
        "outputId": "e3fc0d56-1896-4ed3-9897-8150bb5cddd4"
      },
      "outputs": [
        {
          "name": "stdout",
          "output_type": "stream",
          "text": [
            "Downloading and preparing dataset 11.06 MiB (download: 11.06 MiB, generated: 21.00 MiB, total: 32.06 MiB) to ~/tensorflow_datasets/mnist/3.0.1...\n"
          ]
        },
        {
          "data": {
            "application/vnd.jupyter.widget-view+json": {
              "model_id": "c581b0df64174658a2d15729d24dbc02",
              "version_major": 2,
              "version_minor": 0
            },
            "text/plain": [
              "Dl Completed...:   0%|          | 0/4 [00:00<?, ? file/s]"
            ]
          },
          "metadata": {},
          "output_type": "display_data"
        },
        {
          "name": "stdout",
          "output_type": "stream",
          "text": [
            "Dataset mnist downloaded and prepared to ~/tensorflow_datasets/mnist/3.0.1. Subsequent calls will reuse this data.\n"
          ]
        }
      ],
      "source": [
        "# Chargement des données\n",
        "dataset, metadata = tfds.load('mnist', as_supervised=True, with_info=True)"
      ]
    },
    {
      "cell_type": "code",
      "execution_count": 9,
      "metadata": {
        "id": "mzY_USgK4KZi"
      },
      "outputs": [],
      "source": [
        "train_dataset, test_dataset = dataset['train'], dataset['test']"
      ]
    },
    {
      "cell_type": "markdown",
      "metadata": {
        "id": "yAcnpZdl2lbx"
      },
      "source": [
        "## Exploration des données"
      ]
    },
    {
      "cell_type": "code",
      "execution_count": 10,
      "metadata": {
        "id": "a0I7fd0bWn2W"
      },
      "outputs": [],
      "source": [
        "# Les labels\n",
        "class_names = metadata.features['label'].names"
      ]
    },
    {
      "cell_type": "code",
      "execution_count": 12,
      "metadata": {
        "colab": {
          "base_uri": "https://localhost:8080/"
        },
        "id": "HzdWeQ-Q2ri-",
        "outputId": "f9365e17-ad48-430f-a9bf-35a0f49cbb3f"
      },
      "outputs": [
        {
          "name": "stdout",
          "output_type": "stream",
          "text": [
            "Class names: ['0', '1', '2', '3', '4', '5', '6', '7', '8', '9']\n"
          ]
        }
      ],
      "source": [
        "print(\"Class names: {}\".format(class_names))"
      ]
    },
    {
      "cell_type": "code",
      "execution_count": 13,
      "metadata": {
        "colab": {
          "base_uri": "https://localhost:8080/"
        },
        "id": "U684i_iY4drk",
        "outputId": "5f8f1ea6-6663-4a84-8fe6-1eaae9524dbb"
      },
      "outputs": [
        {
          "name": "stdout",
          "output_type": "stream",
          "text": [
            "Number of training examples: 60000\n",
            "Number of test examples:     10000\n"
          ]
        }
      ],
      "source": [
        "# Le nombre de train set et de test set\n",
        "num_train_examples = metadata.splits['train'].num_examples\n",
        "num_test_examples = metadata.splits['test'].num_examples\n",
        "print(f\"Number of training examples: {num_train_examples}\")\n",
        "print(f\"Number of test examples:     {num_test_examples}\")"
      ]
    },
    {
      "cell_type": "code",
      "execution_count": 15,
      "metadata": {
        "colab": {
          "base_uri": "https://localhost:8080/",
          "height": 265
        },
        "id": "kS5e__6w480z",
        "outputId": "7b20857c-cc44-4d93-b8c7-53b93bd8f695"
      },
      "outputs": [
        {
          "data": {
            "image/png": "[encoded data removed]",
            "text/plain": [
              "<Figure size 432x288 with 2 Axes>"
            ]
          },
          "metadata": {
            "needs_background": "light"
          },
          "output_type": "display_data"
        }
      ],
      "source": [
        "# représentation d'une image\n",
        "for image, label in test_dataset.take(1):\n",
        "  break\n",
        "image = image.numpy().reshape((28,28))\n",
        "\n",
        "plt.figure()\n",
        "plt.imshow(image, cmap=plt.cm.binary)\n",
        "plt.colorbar()\n",
        "plt.grid(False)\n",
        "plt.show()"
      ]
    },
    {
      "cell_type": "code",
      "execution_count": 16,
      "metadata": {
        "colab": {
          "base_uri": "https://localhost:8080/",
          "height": 589
        },
        "id": "jReuF3Kn5sDa",
        "outputId": "86027f1f-7bb5-4b5f-fbf5-45da2665f768"
      },
      "outputs": [
        {
          "data": {
            "image/png": "[encoded data removed]",
            "text/plain": [
              "<Figure size 720x720 with 15 Axes>"
            ]
          },
          "metadata": {},
          "output_type": "display_data"
        }
      ],
      "source": [
        "# Représentation des 15 premiers images\n",
        "plt.figure(figsize=(10,10))\n",
        "for i, (image, label) in enumerate(train_dataset.take(15)):\n",
        "    image = image.numpy().reshape((28,28))\n",
        "    plt.subplot(5,3,i+1)\n",
        "    plt.xticks([])\n",
        "    plt.yticks([])\n",
        "    plt.grid(False)\n",
        "    plt.imshow(image, cmap=plt.cm.binary)\n",
        "    plt.xlabel(class_names[label])\n",
        "plt.show()"
      ]
    },
    {
      "cell_type": "code",
      "execution_count": 21,
      "metadata": {
        "colab": {
          "base_uri": "https://localhost:8080/"
        },
        "id": "7VA_hcgEWrpH",
        "outputId": "21671aeb-5ba1-4e2e-e4b9-1738e72f9ed3"
      },
      "outputs": [
        {
          "data": {
            "text/plain": [
              "TensorShape([60000, 32, 32])"
            ]
          },
          "execution_count": 21,
          "metadata": {},
          "output_type": "execute_result"
        }
      ],
      "source": [
        "## add o padding to match the expected dimensions by LeNet\n",
        "(x_train,y_train),(x_test,y_test) = datasets.mnist.load_data()\n",
        "x_train = tf.pad(x_train, [[0, 0], [2,2], [2,2]])/255\n",
        "x_test = tf.pad(x_test, [[0, 0], [2,2], [2,2]])/255\n",
        "x_train.shape"
      ]
    },
    {
      "cell_type": "code",
      "execution_count": 23,
      "metadata": {
        "colab": {
          "base_uri": "https://localhost:8080/"
        },
        "id": "52rNNCYb-Qa0",
        "outputId": "b430b878-bb3c-4144-e17f-a8791a9db2c2"
      },
      "outputs": [
        {
          "data": {
            "text/plain": [
              "TensorShape([60000, 32, 32])"
            ]
          },
          "execution_count": 23,
          "metadata": {},
          "output_type": "execute_result"
        }
      ],
      "source": [
        "x_train.shape"
      ]
    },
    {
      "cell_type": "code",
      "execution_count": 29,
      "metadata": {
        "id": "Y5PszcH0AbMC"
      },
      "outputs": [],
      "source": [
        "x_train = tf.expand_dims(x_train, axis=3, name=None)\n",
        "x_test = tf.expand_dims(x_test, axis=3, name=None)"
      ]
    },
    {
      "cell_type": "code",
      "execution_count": 33,
      "metadata": {
        "colab": {
          "base_uri": "https://localhost:8080/"
        },
        "id": "ERUasiqIAdHA",
        "outputId": "eaa14375-0526-4093-fef7-315de0e689a8"
      },
      "outputs": [
        {
          "data": {
            "text/plain": [
              "TensorShape([32, 32, 1])"
            ]
          },
          "execution_count": 33,
          "metadata": {},
          "output_type": "execute_result"
        }
      ],
      "source": [
        "x_train.shape[1:]"
      ]
    },
    {
      "cell_type": "markdown",
      "metadata": {
        "id": "OJNNBC4S6Bn8"
      },
      "source": [
        "## Construction du model LeNet"
      ]
    },
    {
      "cell_type": "code",
      "execution_count": 40,
      "metadata": {
        "id": "8IFJwCCUY_c8"
      },
      "outputs": [],
      "source": [
        "model = models.Sequential([\n",
        "    layers.Conv2D(6, (5,5), activation='tanh', input_shape=x_train.shape[1:]),\n",
        "    layers.AveragePooling2D(2),\n",
        "    layers.Conv2D(16, (5,5), activation='tanh'),\n",
        "    layers.AveragePooling2D(2),\n",
        "    layers.Conv2D(120, (5,5), activation='tanh'),\n",
        "    layers.Flatten(),\n",
        "    layers.Dense(84, activation='tanh'),\n",
        "    layers.Dense(10, activation='softmax')\n",
        "    \n",
        "])"
      ]
    },
    {
      "cell_type": "code",
      "execution_count": 41,
      "metadata": {
        "colab": {
          "base_uri": "https://localhost:8080/"
        },
        "id": "zrWJqADIZzYZ",
        "outputId": "4b8a862d-7bf4-4b51-9926-96d975d479f5"
      },
      "outputs": [
        {
          "name": "stdout",
          "output_type": "stream",
          "text": [
            "Model: \"sequential_2\"\n",
            "_________________________________________________________________\n",
            " Layer (type)                Output Shape              Param #   \n",
            "=================================================================\n",
            " conv2d_6 (Conv2D)           (None, 28, 28, 6)         156       \n",
            "                                                                 \n",
            " average_pooling2d_4 (Averag  (None, 14, 14, 6)        0         \n",
            " ePooling2D)                                                     \n",
            "                                                                 \n",
            " conv2d_7 (Conv2D)           (None, 10, 10, 16)        2416      \n",
            "                                                                 \n",
            " average_pooling2d_5 (Averag  (None, 5, 5, 16)         0         \n",
            " ePooling2D)                                                     \n",
            "                                                                 \n",
            " conv2d_8 (Conv2D)           (None, 1, 1, 120)         48120     \n",
            "                                                                 \n",
            " flatten_2 (Flatten)         (None, 120)               0         \n",
            "                                                                 \n",
            " dense_4 (Dense)             (None, 84)                10164     \n",
            "                                                                 \n",
            " dense_5 (Dense)             (None, 10)                850       \n",
            "                                                                 \n",
            "=================================================================\n",
            "Total params: 61,706\n",
            "Trainable params: 61,706\n",
            "Non-trainable params: 0\n",
            "_________________________________________________________________\n"
          ]
        }
      ],
      "source": [
        "model.summary()"
      ]
    },
    {
      "cell_type": "markdown",
      "metadata": {
        "id": "eDH_f0eZBm1i"
      },
      "source": [
        "## Entrainement du model"
      ]
    },
    {
      "cell_type": "code",
      "execution_count": 42,
      "metadata": {
        "id": "_PcNTHBCZ1X6"
      },
      "outputs": [],
      "source": [
        "model.compile(optimizer='adam', loss=losses.sparse_categorical_crossentropy, metrics=['accuracy'])\n"
      ]
    },
    {
      "cell_type": "code",
      "execution_count": 43,
      "metadata": {
        "colab": {
          "base_uri": "https://localhost:8080/"
        },
        "id": "sJSfiNY9D15n",
        "outputId": "d5ecc911-fa52-40b5-92da-cdaa34d9b109"
      },
      "outputs": [
        {
          "name": "stdout",
          "output_type": "stream",
          "text": [
            "Epoch 1/50\n",
            "938/938 [==============================] - 4s 4ms/step - loss: 0.2815 - accuracy: 0.9161\n",
            "Epoch 2/50\n",
            "938/938 [==============================] - 3s 4ms/step - loss: 0.1000 - accuracy: 0.9700\n",
            "Epoch 3/50\n",
            "938/938 [==============================] - 3s 4ms/step - loss: 0.0641 - accuracy: 0.9806\n",
            "Epoch 4/50\n",
            "938/938 [==============================] - 3s 4ms/step - loss: 0.0491 - accuracy: 0.9845\n",
            "Epoch 5/50\n",
            "938/938 [==============================] - 3s 4ms/step - loss: 0.0383 - accuracy: 0.9882\n",
            "Epoch 6/50\n",
            "938/938 [==============================] - 3s 4ms/step - loss: 0.0325 - accuracy: 0.9897\n",
            "Epoch 7/50\n",
            "938/938 [==============================] - 3s 4ms/step - loss: 0.0255 - accuracy: 0.9919\n",
            "Epoch 8/50\n",
            "938/938 [==============================] - 3s 4ms/step - loss: 0.0205 - accuracy: 0.9935\n",
            "Epoch 9/50\n",
            "938/938 [==============================] - 3s 4ms/step - loss: 0.0182 - accuracy: 0.9941\n",
            "Epoch 10/50\n",
            "938/938 [==============================] - 3s 4ms/step - loss: 0.0166 - accuracy: 0.9946\n",
            "Epoch 11/50\n",
            "938/938 [==============================] - 3s 4ms/step - loss: 0.0140 - accuracy: 0.9956\n",
            "Epoch 12/50\n",
            "938/938 [==============================] - 3s 4ms/step - loss: 0.0115 - accuracy: 0.9966\n",
            "Epoch 13/50\n",
            "938/938 [==============================] - 3s 4ms/step - loss: 0.0121 - accuracy: 0.9959\n",
            "Epoch 14/50\n",
            "938/938 [==============================] - 3s 4ms/step - loss: 0.0097 - accuracy: 0.9970\n",
            "Epoch 15/50\n",
            "938/938 [==============================] - 3s 4ms/step - loss: 0.0091 - accuracy: 0.9968\n",
            "Epoch 16/50\n",
            "938/938 [==============================] - 3s 4ms/step - loss: 0.0059 - accuracy: 0.9983\n",
            "Epoch 17/50\n",
            "938/938 [==============================] - 3s 4ms/step - loss: 0.0090 - accuracy: 0.9969\n",
            "Epoch 18/50\n",
            "938/938 [==============================] - 3s 4ms/step - loss: 0.0082 - accuracy: 0.9973\n",
            "Epoch 19/50\n",
            "938/938 [==============================] - 3s 4ms/step - loss: 0.0054 - accuracy: 0.9982\n",
            "Epoch 20/50\n",
            "938/938 [==============================] - 3s 3ms/step - loss: 0.0055 - accuracy: 0.9982\n",
            "Epoch 21/50\n",
            "938/938 [==============================] - 3s 4ms/step - loss: 0.0060 - accuracy: 0.9982\n",
            "Epoch 22/50\n",
            "938/938 [==============================] - 3s 4ms/step - loss: 0.0063 - accuracy: 0.9980\n",
            "Epoch 23/50\n",
            "938/938 [==============================] - 3s 4ms/step - loss: 0.0067 - accuracy: 0.9975\n",
            "Epoch 24/50\n",
            "938/938 [==============================] - 3s 3ms/step - loss: 0.0060 - accuracy: 0.9982\n",
            "Epoch 25/50\n",
            "938/938 [==============================] - 3s 4ms/step - loss: 0.0056 - accuracy: 0.9980\n",
            "Epoch 26/50\n",
            "938/938 [==============================] - 3s 4ms/step - loss: 0.0037 - accuracy: 0.9990\n",
            "Epoch 27/50\n",
            "938/938 [==============================] - 3s 4ms/step - loss: 0.0043 - accuracy: 0.9987\n",
            "Epoch 28/50\n",
            "938/938 [==============================] - 3s 3ms/step - loss: 0.0050 - accuracy: 0.9983\n",
            "Epoch 29/50\n",
            "938/938 [==============================] - 3s 3ms/step - loss: 0.0070 - accuracy: 0.9974\n",
            "Epoch 30/50\n",
            "938/938 [==============================] - 3s 3ms/step - loss: 0.0034 - accuracy: 0.9990\n",
            "Epoch 31/50\n",
            "938/938 [==============================] - 3s 3ms/step - loss: 7.4260e-04 - accuracy: 0.9999\n",
            "Epoch 32/50\n",
            "938/938 [==============================] - 3s 3ms/step - loss: 0.0023 - accuracy: 0.9995\n",
            "Epoch 33/50\n",
            "938/938 [==============================] - 3s 3ms/step - loss: 0.0121 - accuracy: 0.9961\n",
            "Epoch 34/50\n",
            "938/938 [==============================] - 3s 3ms/step - loss: 0.0023 - accuracy: 0.9992\n",
            "Epoch 35/50\n",
            "938/938 [==============================] - 3s 4ms/step - loss: 0.0028 - accuracy: 0.9991\n",
            "Epoch 36/50\n",
            "938/938 [==============================] - 3s 4ms/step - loss: 0.0053 - accuracy: 0.9983\n",
            "Epoch 37/50\n",
            "938/938 [==============================] - 3s 4ms/step - loss: 0.0016 - accuracy: 0.9996\n",
            "Epoch 38/50\n",
            "938/938 [==============================] - 3s 4ms/step - loss: 0.0070 - accuracy: 0.9979\n",
            "Epoch 39/50\n",
            "938/938 [==============================] - 3s 4ms/step - loss: 0.0050 - accuracy: 0.9983\n",
            "Epoch 40/50\n",
            "938/938 [==============================] - 3s 3ms/step - loss: 0.0030 - accuracy: 0.9990\n",
            "Epoch 41/50\n",
            "938/938 [==============================] - 3s 4ms/step - loss: 0.0022 - accuracy: 0.9992\n",
            "Epoch 42/50\n",
            "938/938 [==============================] - 3s 3ms/step - loss: 0.0042 - accuracy: 0.9985\n",
            "Epoch 43/50\n",
            "938/938 [==============================] - 3s 3ms/step - loss: 0.0041 - accuracy: 0.9988\n",
            "Epoch 44/50\n",
            "938/938 [==============================] - 3s 3ms/step - loss: 8.6842e-04 - accuracy: 0.9998\n",
            "Epoch 45/50\n",
            "938/938 [==============================] - 3s 3ms/step - loss: 0.0021 - accuracy: 0.9994\n",
            "Epoch 46/50\n",
            "938/938 [==============================] - 3s 3ms/step - loss: 0.0084 - accuracy: 0.9971\n",
            "Epoch 47/50\n",
            "938/938 [==============================] - 3s 3ms/step - loss: 0.0040 - accuracy: 0.9987\n",
            "Epoch 48/50\n",
            "938/938 [==============================] - 3s 3ms/step - loss: 0.0012 - accuracy: 0.9997\n",
            "Epoch 49/50\n",
            "938/938 [==============================] - 3s 4ms/step - loss: 0.0012 - accuracy: 0.9997\n",
            "Epoch 50/50\n",
            "938/938 [==============================] - 3s 4ms/step - loss: 0.0056 - accuracy: 0.9980\n"
          ]
        }
      ],
      "source": [
        "history = model.fit(x_train, y_train, batch_size=64, epochs=50)"
      ]
    },
    {
      "cell_type": "markdown",
      "metadata": {
        "id": "G87kgFoACUtQ"
      },
      "source": [
        "## Test du model"
      ]
    },
    {
      "cell_type": "code",
      "execution_count": 44,
      "metadata": {
        "colab": {
          "base_uri": "https://localhost:8080/"
        },
        "id": "D-NugIwBaD4I",
        "outputId": "37064c78-9e2a-4283-a8f1-8a9550f61e97"
      },
      "outputs": [
        {
          "name": "stdout",
          "output_type": "stream",
          "text": [
            "313/313 [==============================] - 1s 2ms/step - loss: 0.0787 - accuracy: 0.9854\n"
          ]
        },
        {
          "data": {
            "text/plain": [
              "[0.07868047058582306, 0.9854000210762024]"
            ]
          },
          "execution_count": 44,
          "metadata": {},
          "output_type": "execute_result"
        }
      ],
      "source": [
        "model.evaluate(x_test, y_test)"
      ]
    },
    {
      "cell_type": "markdown",
      "metadata": {
        "id": "S4CPEkYKClbT"
      },
      "source": [
        "## Sauvegarde du model"
      ]
    },
    {
      "cell_type": "code",
      "execution_count": 45,
      "metadata": {
        "id": "carpHApKdg28"
      },
      "outputs": [],
      "source": [
        "model.save(\"LeNetmodel.h5\")"
      ]
    },
    {
      "cell_type": "markdown",
      "metadata": {
        "id": "IFu18FkyCtMN"
      },
      "source": [
        "## Représentation du Loss et de l'Accuracy"
      ]
    },
    {
      "cell_type": "code",
      "execution_count": 46,
      "metadata": {
        "colab": {
          "base_uri": "https://localhost:8080/",
          "height": 295
        },
        "id": "Ky0nJXs0dwKe",
        "outputId": "3bfb1f58-fb33-46b6-9c08-24a290dd0ecc"
      },
      "outputs": [
        {
          "data": {
            "image/png": "[encoded data removed]",
            "text/plain": [
              "<Figure size 432x288 with 1 Axes>"
            ]
          },
          "metadata": {
            "needs_background": "light"
          },
          "output_type": "display_data"
        }
      ],
      "source": [
        "plt.plot(history.history['accuracy'],label = 'training accuray')\n",
        "plt.plot(history.history['loss'],label = 'training Loss')\n",
        "plt.title(\"Accuracy vs Loss\")\n",
        "plt.xlabel(\"Epochs\")\n",
        "plt.ylabel(\"Accuracy vs Loss\")\n",
        "plt.legend()\n",
        "plt.show()"
      ]
    }
  ],
  "metadata": {
    "accelerator": "GPU",
    "colab": {
      "provenance": []
    },
    "gpuClass": "standard",
    "kernelspec": {
      "display_name": "Python 3",
      "name": "python3"
    },
    "language_info": {
      "name": "python"
    },
    "widgets": {
      "application/vnd.jupyter.widget-state+json": {
        "1027e8228b874ff2a1088e74879943e3": {
          "model_module": "@jupyter-widgets/base",
          "model_module_version": "1.2.0",
          "model_name": "LayoutModel",
          "state": {
            "_model_module": "@jupyter-widgets/base",
            "_model_module_version": "1.2.0",
            "_model_name": "LayoutModel",
            "_view_count": null,
            "_view_module": "@jupyter-widgets/base",
            "_view_module_version": "1.2.0",
            "_view_name": "LayoutView",
            "align_content": null,
            "align_items": null,
            "align_self": null,
            "border": null,
            "bottom": null,
            "display": null,
            "flex": null,
            "flex_flow": null,
            "grid_area": null,
            "grid_auto_columns": null,
            "grid_auto_flow": null,
            "grid_auto_rows": null,
            "grid_column": null,
            "grid_gap": null,
            "grid_row": null,
            "grid_template_areas": null,
            "grid_template_columns": null,
            "grid_template_rows": null,
            "height": null,
            "justify_content": null,
            "justify_items": null,
            "left": null,
            "margin": null,
            "max_height": null,
            "max_width": null,
            "min_height": null,
            "min_width": null,
            "object_fit": null,
            "object_position": null,
            "order": null,
            "overflow": null,
            "overflow_x": null,
            "overflow_y": null,
            "padding": null,
            "right": null,
            "top": null,
            "visibility": null,
            "width": null
          }
        },
        "21d4b2aedc9c461a97eca11b76987544": {
          "model_module": "@jupyter-widgets/controls",
          "model_module_version": "1.5.0",
          "model_name": "DescriptionStyleModel",
          "state": {
            "_model_module": "@jupyter-widgets/controls",
            "_model_module_version": "1.5.0",
            "_model_name": "DescriptionStyleModel",
            "_view_count": null,
            "_view_module": "@jupyter-widgets/base",
            "_view_module_version": "1.2.0",
            "_view_name": "StyleView",
            "description_width": ""
          }
        },
        "3f5c8fcd62794cd3bd9ebed49806a7ce": {
          "model_module": "@jupyter-widgets/controls",
          "model_module_version": "1.5.0",
          "model_name": "DescriptionStyleModel",
          "state": {
            "_model_module": "@jupyter-widgets/controls",
            "_model_module_version": "1.5.0",
            "_model_name": "DescriptionStyleModel",
            "_view_count": null,
            "_view_module": "@jupyter-widgets/base",
            "_view_module_version": "1.2.0",
            "_view_name": "StyleView",
            "description_width": ""
          }
        },
        "4952e7630b564d17b70b9993ef09dadb": {
          "model_module": "@jupyter-widgets/base",
          "model_module_version": "1.2.0",
          "model_name": "LayoutModel",
          "state": {
            "_model_module": "@jupyter-widgets/base",
            "_model_module_version": "1.2.0",
            "_model_name": "LayoutModel",
            "_view_count": null,
            "_view_module": "@jupyter-widgets/base",
            "_view_module_version": "1.2.0",
            "_view_name": "LayoutView",
            "align_content": null,
            "align_items": null,
            "align_self": null,
            "border": null,
            "bottom": null,
            "display": null,
            "flex": null,
            "flex_flow": null,
            "grid_area": null,
            "grid_auto_columns": null,
            "grid_auto_flow": null,
            "grid_auto_rows": null,
            "grid_column": null,
            "grid_gap": null,
            "grid_row": null,
            "grid_template_areas": null,
            "grid_template_columns": null,
            "grid_template_rows": null,
            "height": null,
            "justify_content": null,
            "justify_items": null,
            "left": null,
            "margin": null,
            "max_height": null,
            "max_width": null,
            "min_height": null,
            "min_width": null,
            "object_fit": null,
            "object_position": null,
            "order": null,
            "overflow": null,
            "overflow_x": null,
            "overflow_y": null,
            "padding": null,
            "right": null,
            "top": null,
            "visibility": null,
            "width": null
          }
        },
        "572c9fc8d1404a0bab217c38ef26f033": {
          "model_module": "@jupyter-widgets/controls",
          "model_module_version": "1.5.0",
          "model_name": "HTMLModel",
          "state": {
            "_dom_classes": [],
            "_model_module": "@jupyter-widgets/controls",
            "_model_module_version": "1.5.0",
            "_model_name": "HTMLModel",
            "_view_count": null,
            "_view_module": "@jupyter-widgets/controls",
            "_view_module_version": "1.5.0",
            "_view_name": "HTMLView",
            "description": "",
            "description_tooltip": null,
            "layout": "IPY_MODEL_5dbc3869470a48c8b6ac1e7aca07470e",
            "placeholder": "​",
            "style": "IPY_MODEL_21d4b2aedc9c461a97eca11b76987544",
            "value": "Dl Completed...: 100%"
          }
        },
        "5dbc3869470a48c8b6ac1e7aca07470e": {
          "model_module": "@jupyter-widgets/base",
          "model_module_version": "1.2.0",
          "model_name": "LayoutModel",
          "state": {
            "_model_module": "@jupyter-widgets/base",
            "_model_module_version": "1.2.0",
            "_model_name": "LayoutModel",
            "_view_count": null,
            "_view_module": "@jupyter-widgets/base",
            "_view_module_version": "1.2.0",
            "_view_name": "LayoutView",
            "align_content": null,
            "align_items": null,
            "align_self": null,
            "border": null,
            "bottom": null,
            "display": null,
            "flex": null,
            "flex_flow": null,
            "grid_area": null,
            "grid_auto_columns": null,
            "grid_auto_flow": null,
            "grid_auto_rows": null,
            "grid_column": null,
            "grid_gap": null,
            "grid_row": null,
            "grid_template_areas": null,
            "grid_template_columns": null,
            "grid_template_rows": null,
            "height": null,
            "justify_content": null,
            "justify_items": null,
            "left": null,
            "margin": null,
            "max_height": null,
            "max_width": null,
            "min_height": null,
            "min_width": null,
            "object_fit": null,
            "object_position": null,
            "order": null,
            "overflow": null,
            "overflow_x": null,
            "overflow_y": null,
            "padding": null,
            "right": null,
            "top": null,
            "visibility": null,
            "width": null
          }
        },
        "7338936a5e4d46469330dfe867191bac": {
          "model_module": "@jupyter-widgets/controls",
          "model_module_version": "1.5.0",
          "model_name": "FloatProgressModel",
          "state": {
            "_dom_classes": [],
            "_model_module": "@jupyter-widgets/controls",
            "_model_module_version": "1.5.0",
            "_model_name": "FloatProgressModel",
            "_view_count": null,
            "_view_module": "@jupyter-widgets/controls",
            "_view_module_version": "1.5.0",
            "_view_name": "ProgressView",
            "bar_style": "success",
            "description": "",
            "description_tooltip": null,
            "layout": "IPY_MODEL_4952e7630b564d17b70b9993ef09dadb",
            "max": 4,
            "min": 0,
            "orientation": "horizontal",
            "style": "IPY_MODEL_95703a6114dd4adab38872bfef93daf8",
            "value": 4
          }
        },
        "89b6716714d84fb4b102c4f244a99cd4": {
          "model_module": "@jupyter-widgets/base",
          "model_module_version": "1.2.0",
          "model_name": "LayoutModel",
          "state": {
            "_model_module": "@jupyter-widgets/base",
            "_model_module_version": "1.2.0",
            "_model_name": "LayoutModel",
            "_view_count": null,
            "_view_module": "@jupyter-widgets/base",
            "_view_module_version": "1.2.0",
            "_view_name": "LayoutView",
            "align_content": null,
            "align_items": null,
            "align_self": null,
            "border": null,
            "bottom": null,
            "display": null,
            "flex": null,
            "flex_flow": null,
            "grid_area": null,
            "grid_auto_columns": null,
            "grid_auto_flow": null,
            "grid_auto_rows": null,
            "grid_column": null,
            "grid_gap": null,
            "grid_row": null,
            "grid_template_areas": null,
            "grid_template_columns": null,
            "grid_template_rows": null,
            "height": null,
            "justify_content": null,
            "justify_items": null,
            "left": null,
            "margin": null,
            "max_height": null,
            "max_width": null,
            "min_height": null,
            "min_width": null,
            "object_fit": null,
            "object_position": null,
            "order": null,
            "overflow": null,
            "overflow_x": null,
            "overflow_y": null,
            "padding": null,
            "right": null,
            "top": null,
            "visibility": null,
            "width": null
          }
        },
        "95703a6114dd4adab38872bfef93daf8": {
          "model_module": "@jupyter-widgets/controls",
          "model_module_version": "1.5.0",
          "model_name": "ProgressStyleModel",
          "state": {
            "_model_module": "@jupyter-widgets/controls",
            "_model_module_version": "1.5.0",
            "_model_name": "ProgressStyleModel",
            "_view_count": null,
            "_view_module": "@jupyter-widgets/base",
            "_view_module_version": "1.2.0",
            "_view_name": "StyleView",
            "bar_color": null,
            "description_width": ""
          }
        },
        "c581b0df64174658a2d15729d24dbc02": {
          "model_module": "@jupyter-widgets/controls",
          "model_module_version": "1.5.0",
          "model_name": "HBoxModel",
          "state": {
            "_dom_classes": [],
            "_model_module": "@jupyter-widgets/controls",
            "_model_module_version": "1.5.0",
            "_model_name": "HBoxModel",
            "_view_count": null,
            "_view_module": "@jupyter-widgets/controls",
            "_view_module_version": "1.5.0",
            "_view_name": "HBoxView",
            "box_style": "",
            "children": [
              "IPY_MODEL_572c9fc8d1404a0bab217c38ef26f033",
              "IPY_MODEL_7338936a5e4d46469330dfe867191bac",
              "IPY_MODEL_edbe3d6f1256449cb7024cbb01adccb4"
            ],
            "layout": "IPY_MODEL_89b6716714d84fb4b102c4f244a99cd4"
          }
        },
        "edbe3d6f1256449cb7024cbb01adccb4": {
          "model_module": "@jupyter-widgets/controls",
          "model_module_version": "1.5.0",
          "model_name": "HTMLModel",
          "state": {
            "_dom_classes": [],
            "_model_module": "@jupyter-widgets/controls",
            "_model_module_version": "1.5.0",
            "_model_name": "HTMLModel",
            "_view_count": null,
            "_view_module": "@jupyter-widgets/controls",
            "_view_module_version": "1.5.0",
            "_view_name": "HTMLView",
            "description": "",
            "description_tooltip": null,
            "layout": "IPY_MODEL_1027e8228b874ff2a1088e74879943e3",
            "placeholder": "​",
            "style": "IPY_MODEL_3f5c8fcd62794cd3bd9ebed49806a7ce",
            "value": " 4/4 [00:02&lt;00:00,  1.59 file/s]"
          }
        }
      }
    }
  },
  "nbformat": 4,
  "nbformat_minor": 0
}
